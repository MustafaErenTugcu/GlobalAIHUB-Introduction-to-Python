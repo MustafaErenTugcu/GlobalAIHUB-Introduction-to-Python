{
  "nbformat": 4,
  "nbformat_minor": 0,
  "metadata": {
    "colab": {
      "provenance": []
    },
    "kernelspec": {
      "name": "python3",
      "display_name": "Python 3"
    },
    "language_info": {
      "name": "python"
    }
  },
  "cells": [
    {
      "cell_type": "markdown",
      "source": [
        "# Practical exercise 2:  You are a game developer :)\n",
        "\n",
        "In this practical exercise you are a game developer. You will program your first game – Rock, Paper, Scissors.\n",
        "\n",
        "If you are not familiar with the game, you can read about it here: https://en.wikipedia.org/wiki/Rock_paper_scissors.\n",
        "\n",
        "You will program the game step by step. Please read the instructions carefully. There are hints and important explanations that will help you with this exercise."
      ],
      "metadata": {
        "id": "tBDsFMQwBs6Z"
      }
    },
    {
      "cell_type": "markdown",
      "source": [
        "##Warm up\n",
        "\n",
        "Each player can choose between the three actions \"rock\", \"paper\" and \"scissors\". First, you need to create a list that contains all possible actions."
      ],
      "metadata": {
        "id": "ymULFKyosM3d"
      }
    },
    {
      "cell_type": "code",
      "source": [
        "#Please create a list containing the three actions of the game.\n",
        "game_items = [\"rock\",\"paper\",\"scissors\"]"
      ],
      "metadata": {
        "id": "0w6HGZBvsvru"
      },
      "execution_count": 53,
      "outputs": []
    },
    {
      "cell_type": "markdown",
      "source": [
        "# Choose an action\n",
        "\n",
        "Now you have the list with the actions ready. The next step is to let Python randomly choose an action from this list. Each player has to make a choice, so Python has to make a choice for player 1 and another one for player 2.\n",
        "\n",
        "📌The built-in module \"random\" can help you with this. As you might remember from previous lessons you can use the .randint() method to generate random numbers.\n",
        "\n",
        "📌📌There is another method in the random module called .choice(). It takes a list as input and selects an item randomly from that list.\n",
        "\n"
      ],
      "metadata": {
        "id": "cnWVzlo1vBy8"
      }
    },
    {
      "cell_type": "code",
      "source": [
        "#Import the random library\n",
        "import random\n",
        "\n",
        "#Select a random action for each player\n",
        "choice1 = random.choice(game_items)\n",
        "choice2 = random.choice(game_items)\n",
        "#Use the print function to print the players choices\n",
        "print(\"Player1 : \" ,choice1)\n",
        "print(\"Player2 : \" ,choice2)"
      ],
      "metadata": {
        "id": "bdlEyJC2xPOw",
        "colab": {
          "base_uri": "https://localhost:8080/"
        },
        "outputId": "fc5c22a1-67af-4011-a390-a99edbdfc48d"
      },
      "execution_count": 58,
      "outputs": [
        {
          "output_type": "stream",
          "name": "stdout",
          "text": [
            "Player1 :  paper\n",
            "Player2 :  rock\n"
          ]
        }
      ]
    },
    {
      "cell_type": "markdown",
      "source": [
        "# Determine the winner\n",
        "\n",
        "So, who won? To determine the winner, you first have to specify all possible outcomes of the game. Then you can use conditional statements to specify which outcome will lead to a win for player 1 or player 2, or a tie.\n",
        "\n",
        "First, let's start with the outcome that both users chose the same action: a tie!\n",
        "In case of a tie, the game should print the message \"Tie! Both players chose the same action.\" to the screen.\n",
        "\n",
        "📌Use conditional statements to check whether the players actions are equal to each other and *if* this condition is true the message should be printed."
      ],
      "metadata": {
        "id": "Yr7uQq1J2k6p"
      }
    },
    {
      "cell_type": "code",
      "source": [
        "#1 - Tie Condition\n",
        "#Please write an if statement to check if the players chose the same action\n",
        "if(choice1 == choice2):\n",
        "  print(\"The game is tie!\")\n"
      ],
      "metadata": {
        "id": "8S1F2r8NtEoN"
      },
      "execution_count": 29,
      "outputs": []
    },
    {
      "cell_type": "markdown",
      "source": [
        "Now, let's focus on the remaining outcomes. We have three different actions: rock, paper and scissors.\n",
        "\n",
        "This is a list of all the possible combinations (without those that result in a tie):\n",
        "\n",
        "1.   (paper, rock)\n",
        "2.   (paper, scissors)\n",
        "3.   (scissors, rock)\n",
        "4.   (scissors, paper)\n",
        "5.   (rock, paper)\n",
        "6.   (rock, scissors)\n",
        "\n",
        "You need to check all these conditions in order to determine the winner.\n",
        "\n",
        "📌You can use the \"and\" operator to combine two actions in one conditional statement.\n",
        "\n",
        "📌📌Another approach is using nested if statements to check whether the action of player 2 beats the action of player 1.\n",
        "\n",
        "🧨💣In the cell, first copy the code you wrote for \"Tie\" conditions. Then continue to add the other outcomes using \"elif\".\n",
        "\n",
        "\n"
      ],
      "metadata": {
        "id": "6aKSif7rItma"
      }
    },
    {
      "cell_type": "code",
      "source": [
        "#Copy your code of the tie-conditions here\n",
        "#1 - Tie Condition\n",
        "if(choice1 == choice2):\n",
        "  print(\"The game is tie!\")\n",
        "#2-Winning Conditions\n",
        "elif(choice1 == \"paper\" and choice2 == \"rock\"):\n",
        "    print(\"Player 1 is winner\")\n",
        "elif(choice1 == \"scissors\" and choice2 == \"paper\"):\n",
        "    print(\"Player 1 is winner\")\n",
        "elif(choice1 == \"rock\" and choice2 == \"scissors\"):\n",
        "    print(\"Player 1 is winner\")\n",
        "else:\n",
        "    print(\"Player 2 is winner\")\n",
        "\n",
        "#Please add the conditional statements for the remaining combinations\n"
      ],
      "metadata": {
        "id": "Ix9sskr5z6Td",
        "colab": {
          "base_uri": "https://localhost:8080/"
        },
        "outputId": "78b47f09-011d-4cb5-8224-c445d56b79c9"
      },
      "execution_count": 59,
      "outputs": [
        {
          "output_type": "stream",
          "name": "stdout",
          "text": [
            "Player 1 is winner\n"
          ]
        }
      ]
    },
    {
      "cell_type": "markdown",
      "source": [
        "# Best of 3 or 5 or single round ? :)\n",
        "\n",
        "Now that you have your game set, let's also ask the users how many rounds they want to play.\n",
        "\n",
        "📌 You can use the input function for this.\n",
        "\n",
        "And because there are multiple rounds, you need to keep track of the score. For this, you need to create a variable for each player that is 0 in the beginning.\n"
      ],
      "metadata": {
        "id": "7Ixf-AHqIhcV"
      }
    },
    {
      "cell_type": "code",
      "source": [
        "#Please ask the user how many rounds they want to play\n",
        "print(\"How many rounds want to play?\")\n",
        "\n",
        "#Scores of players\n",
        "player1_scores = 0\n",
        "player2_scores = 0\n"
      ],
      "metadata": {
        "id": "_kbrpXXkBU_d"
      },
      "execution_count": null,
      "outputs": []
    },
    {
      "cell_type": "markdown",
      "source": [
        "# Use a for loop to specify the number of rounds\n",
        "The user specified how many rounds he or she wants to play.\n",
        "\n",
        "One way to use this information is to put the game inside of a for loop.\n",
        "\n",
        "📌 You can use a for loop and the range() function to repeat the loop for a specified number of times.\n",
        "\n",
        "📌📌 Don't forget to convert the user input to the data type integer. You can use the int() function for this.\n",
        "\n",
        "📌📌📌 Don't forget to increment or add 1 to the score of the players that win, and print the current score after each round. You can use the assignment operator +=1 for this."
      ],
      "metadata": {
        "id": "nzIGT6s_CWvP"
      }
    },
    {
      "cell_type": "code",
      "source": [
        "#Collect all the components of your program to run it in a for loop\n",
        "#Import the random library\n",
        "import random\n",
        "\n",
        "#Add the code to create a list containing the three actions of the game.\n",
        "game_items = [\"rock\",\"paper\",\"scissors\"]\n",
        "\n",
        "#Add the code to set the scores of players to 0\n",
        "player1_scores = 0\n",
        "player2_scores = 0\n",
        "tie_score = 0\n",
        "#Add the code to ask the user how many rounds they want to play\n",
        "round_number = int(input(\"How many rounds want to play? \"))\n",
        "#Write a for loop and put the game inside\n",
        "for i in range(round_number) :\n",
        "  #Add the code to select a random action for each player\n",
        "  choice1 = random.choice(game_items)\n",
        "  choice2 = random.choice(game_items)\n",
        "  #Add the code to print the players choices\n",
        "  print(\"Player1 : \" ,choice1)\n",
        "  print(\"Player2 : \" ,choice2)\n",
        "\n",
        "  #Add the tie condition\n",
        "  if(choice1 == choice2):\n",
        "   print(\"Tie!\")\n",
        "   tie_score += 1\n",
        "\n",
        "  #Add the remaining condition\n",
        "  elif(choice1 == \"paper\" and choice2 == \"rock\"):\n",
        "    print(\"Player 1 won the round\")\n",
        "    player1_scores += 1\n",
        "  elif(choice1 == \"scissors\" and choice2 == \"paper\"):\n",
        "    print(\"Player 1 won the round\")\n",
        "    player1_scores += 1\n",
        "  elif(choice1 == \"rock\" and choice2 == \"scissors\"):\n",
        "    print(\"Player 1 won the round\")\n",
        "    player1_scores += 1\n",
        "  else:\n",
        "    print(\"Player 2 won the round\")\n",
        "    player2_scores += 1\n",
        "  #print the score\n",
        "print(\"Player 1 score : \" , player1_scores)\n",
        "print(\"Player 2 score : \" , player2_scores)\n",
        "print(\"Tie score : \" , tie_score)\n",
        "if(player1_scores > player2_scores):\n",
        "  print(\"The game winner is player 1 \")\n",
        "elif(player1_scores < player2_scores):\n",
        "  print(\"The game winner is player 2\")\n",
        "else:\n",
        "  print(\"The game is tie.\")\n"
      ],
      "metadata": {
        "id": "Wy7CLLRNCV3X",
        "colab": {
          "base_uri": "https://localhost:8080/"
        },
        "outputId": "495c0d7e-9bde-43b1-d614-eb697de84294"
      },
      "execution_count": 70,
      "outputs": [
        {
          "output_type": "stream",
          "name": "stdout",
          "text": [
            "How many rounds want to play? 6\n",
            "Player1 :  scissors\n",
            "Player2 :  paper\n",
            "Player 1 won the round\n",
            "Player1 :  rock\n",
            "Player2 :  scissors\n",
            "Player 1 won the round\n",
            "Player1 :  scissors\n",
            "Player2 :  scissors\n",
            "Tie!\n",
            "Player1 :  paper\n",
            "Player2 :  paper\n",
            "Tie!\n",
            "Player1 :  rock\n",
            "Player2 :  scissors\n",
            "Player 1 won the round\n",
            "Player1 :  scissors\n",
            "Player2 :  scissors\n",
            "Tie!\n",
            "Player 1 score :  3\n",
            "Player 2 score :  0\n",
            "Tie score :  3\n",
            "The game winner is player 1 \n"
          ]
        }
      ]
    },
    {
      "cell_type": "markdown",
      "source": [
        "# Use a while loop to specify the number of rounds - Part 1\n",
        "\n",
        "In this module we also learned about while loops. Another way to play the game over and over again is using a while loop.\n",
        "\n",
        "This time, let's put the game inside a while loop.\n",
        "\n",
        "📌 You can directly use the value *True* to specify that the while loop should be executed.\n",
        "\n",
        "💣 By the way: Another very common name for True/False values is \"**Boolean values**\" or \"**Bools**\" in short.\n",
        "\n",
        "🧨🧨 Caution! Since we run the game in an while loop, you have to stop the game manually. Otherwise it will run infinitely.\n"
      ],
      "metadata": {
        "id": "QQIXQsmRwGqB"
      }
    },
    {
      "cell_type": "code",
      "source": [
        "#Collect all the components of your program to run it in a while loop\n",
        "#Import the random library\n",
        "import random\n",
        "#Add the code to create a list containing the three actions of the game.\n",
        "game_items = [\"rock\",\"paper\",\"scissors\"]\n",
        "\n",
        "#Add the code to set the scores of players to 0\n",
        "player1_scores = 0\n",
        "player2_scores = 0\n",
        "tie_score = 0\n",
        "game_round_counter = 0\n",
        "#Write a while loop and put the game inside\n",
        "\n",
        "round_number = int(input(\"How many rounds want to play? \"))\n",
        "\n",
        "while game_round_counter < round_number:\n",
        "\n",
        "\n",
        "  #Add the code to select a random action for each player\n",
        "  choice1 = random.choice(game_items)\n",
        "  choice2 = random.choice(game_items)\n",
        "\n",
        "  #Add the code to print the players choices\n",
        "  print(\"Player1 : \" ,choice1)\n",
        "  print(\"Player2 : \" ,choice2)\n",
        "\n",
        "\n",
        "    #Add the tie condition\n",
        "  if(choice1 == choice2):\n",
        "    print(\"Tie!\")\n",
        "    tie_score += 1\n",
        "    game_round_counter += 1\n",
        "  #Add the remaining condition\n",
        "  elif(choice1 == \"paper\" and choice2 == \"rock\"):\n",
        "    print(\"Player 1 won the round\")\n",
        "    player1_scores += 1\n",
        "    game_round_counter += 1\n",
        "  elif(choice1 == \"scissors\" and choice2 == \"paper\"):\n",
        "    print(\"Player 1 won the round\")\n",
        "    player1_scores += 1\n",
        "    game_round_counter += 1\n",
        "  elif(choice1 == \"rock\" and choice2 == \"scissors\"):\n",
        "    print(\"Player 1 won the round\")\n",
        "    player1_scores += 1\n",
        "    game_round_counter += 1\n",
        "  else:\n",
        "    print(\"Player 2 won the round\")\n",
        "    player2_scores += 1\n",
        "    game_round_counter += 1\n",
        "\n",
        "  #print the score\n",
        "print(\"Player 1 score : \" , player1_scores)\n",
        "print(\"Player 2 score : \" , player2_scores)\n",
        "print(\"Tie score : \" , tie_score)\n",
        "if(player1_scores > player2_scores):\n",
        "  print(\"The game winner is player 1 \")\n",
        "elif(player1_scores < player2_scores):\n",
        "  print(\"The game winner is player 2\")\n",
        "else:\n",
        "  print(\"The game is tie.\")\n",
        "\n",
        "\n",
        "\n"
      ],
      "metadata": {
        "id": "dvTr4HR4wF4n",
        "colab": {
          "base_uri": "https://localhost:8080/"
        },
        "outputId": "792b07b2-f5f1-45ea-f5f7-e15171f244c4"
      },
      "execution_count": 80,
      "outputs": [
        {
          "output_type": "stream",
          "name": "stdout",
          "text": [
            "How many rounds want to play? 20\n",
            "Player1 :  scissors\n",
            "Player2 :  rock\n",
            "Player 2 won the round\n",
            "Player1 :  scissors\n",
            "Player2 :  paper\n",
            "Player 1 won the round\n",
            "Player1 :  rock\n",
            "Player2 :  paper\n",
            "Player 2 won the round\n",
            "Player1 :  scissors\n",
            "Player2 :  paper\n",
            "Player 1 won the round\n",
            "Player1 :  scissors\n",
            "Player2 :  scissors\n",
            "Tie!\n",
            "Player1 :  rock\n",
            "Player2 :  paper\n",
            "Player 2 won the round\n",
            "Player1 :  rock\n",
            "Player2 :  scissors\n",
            "Player 1 won the round\n",
            "Player1 :  rock\n",
            "Player2 :  scissors\n",
            "Player 1 won the round\n",
            "Player1 :  rock\n",
            "Player2 :  scissors\n",
            "Player 1 won the round\n",
            "Player1 :  rock\n",
            "Player2 :  rock\n",
            "Tie!\n",
            "Player1 :  scissors\n",
            "Player2 :  rock\n",
            "Player 2 won the round\n",
            "Player1 :  paper\n",
            "Player2 :  paper\n",
            "Tie!\n",
            "Player1 :  scissors\n",
            "Player2 :  scissors\n",
            "Tie!\n",
            "Player1 :  scissors\n",
            "Player2 :  paper\n",
            "Player 1 won the round\n",
            "Player1 :  rock\n",
            "Player2 :  scissors\n",
            "Player 1 won the round\n",
            "Player1 :  scissors\n",
            "Player2 :  scissors\n",
            "Tie!\n",
            "Player1 :  paper\n",
            "Player2 :  scissors\n",
            "Player 2 won the round\n",
            "Player1 :  rock\n",
            "Player2 :  rock\n",
            "Tie!\n",
            "Player1 :  paper\n",
            "Player2 :  rock\n",
            "Player 1 won the round\n",
            "Player1 :  paper\n",
            "Player2 :  paper\n",
            "Tie!\n",
            "Player 1 score :  8\n",
            "Player 2 score :  5\n",
            "Tie score :  7\n",
            "The game winner is player 1 \n"
          ]
        }
      ]
    }
  ]
}